{
  "nbformat": 4,
  "nbformat_minor": 0,
  "metadata": {
    "colab": {
      "name": "Untitled0.ipynb",
      "provenance": [],
      "collapsed_sections": []
    },
    "kernelspec": {
      "name": "python3",
      "display_name": "Python 3"
    }
  },
  "cells": [
    {
      "cell_type": "code",
      "metadata": {
        "id": "xYy5WmZ-Ggz8"
      },
      "source": [
        ""
      ],
      "execution_count": null,
      "outputs": []
    },
    {
      "cell_type": "code",
      "metadata": {
        "colab": {
          "base_uri": "https://localhost:8080/"
        },
        "id": "11UmX3wPGnVD",
        "outputId": "d25386ab-61d5-402b-c420-de8e218a2b6e"
      },
      "source": [
        "pip install nltk"
      ],
      "execution_count": 4,
      "outputs": [
        {
          "output_type": "stream",
          "text": [
            "Requirement already satisfied: nltk in /usr/local/lib/python3.6/dist-packages (3.2.5)\n",
            "Requirement already satisfied: six in /usr/local/lib/python3.6/dist-packages (from nltk) (1.15.0)\n"
          ],
          "name": "stdout"
        }
      ]
    },
    {
      "cell_type": "code",
      "metadata": {
        "colab": {
          "base_uri": "https://localhost:8080/"
        },
        "id": "4pye-QP7GsM1",
        "outputId": "2f2f7974-3464-42de-995c-b0ff69995c03"
      },
      "source": [
        "pip install newspaper3k"
      ],
      "execution_count": 5,
      "outputs": [
        {
          "output_type": "stream",
          "text": [
            "Collecting newspaper3k\n",
            "\u001b[?25l  Downloading https://files.pythonhosted.org/packages/d7/b9/51afecb35bb61b188a4b44868001de348a0e8134b4dfa00ffc191567c4b9/newspaper3k-0.2.8-py3-none-any.whl (211kB)\n",
            "\r\u001b[K     |█▌                              | 10kB 14.6MB/s eta 0:00:01\r\u001b[K     |███                             | 20kB 19.5MB/s eta 0:00:01\r\u001b[K     |████▋                           | 30kB 10.9MB/s eta 0:00:01\r\u001b[K     |██████▏                         | 40kB 8.6MB/s eta 0:00:01\r\u001b[K     |███████▊                        | 51kB 4.4MB/s eta 0:00:01\r\u001b[K     |█████████▎                      | 61kB 4.9MB/s eta 0:00:01\r\u001b[K     |██████████▉                     | 71kB 5.0MB/s eta 0:00:01\r\u001b[K     |████████████▍                   | 81kB 5.6MB/s eta 0:00:01\r\u001b[K     |██████████████                  | 92kB 5.5MB/s eta 0:00:01\r\u001b[K     |███████████████▌                | 102kB 5.9MB/s eta 0:00:01\r\u001b[K     |█████████████████               | 112kB 5.9MB/s eta 0:00:01\r\u001b[K     |██████████████████▋             | 122kB 5.9MB/s eta 0:00:01\r\u001b[K     |████████████████████▏           | 133kB 5.9MB/s eta 0:00:01\r\u001b[K     |█████████████████████▊          | 143kB 5.9MB/s eta 0:00:01\r\u001b[K     |███████████████████████▎        | 153kB 5.9MB/s eta 0:00:01\r\u001b[K     |████████████████████████▉       | 163kB 5.9MB/s eta 0:00:01\r\u001b[K     |██████████████████████████▍     | 174kB 5.9MB/s eta 0:00:01\r\u001b[K     |████████████████████████████    | 184kB 5.9MB/s eta 0:00:01\r\u001b[K     |█████████████████████████████▌  | 194kB 5.9MB/s eta 0:00:01\r\u001b[K     |███████████████████████████████ | 204kB 5.9MB/s eta 0:00:01\r\u001b[K     |████████████████████████████████| 215kB 5.9MB/s \n",
            "\u001b[?25hRequirement already satisfied: lxml>=3.6.0 in /usr/local/lib/python3.6/dist-packages (from newspaper3k) (4.2.6)\n",
            "Collecting feedfinder2>=0.0.4\n",
            "  Downloading https://files.pythonhosted.org/packages/35/82/1251fefec3bb4b03fd966c7e7f7a41c9fc2bb00d823a34c13f847fd61406/feedfinder2-0.0.4.tar.gz\n",
            "Requirement already satisfied: python-dateutil>=2.5.3 in /usr/local/lib/python3.6/dist-packages (from newspaper3k) (2.8.1)\n",
            "Collecting cssselect>=0.9.2\n",
            "  Downloading https://files.pythonhosted.org/packages/3b/d4/3b5c17f00cce85b9a1e6f91096e1cc8e8ede2e1be8e96b87ce1ed09e92c5/cssselect-1.1.0-py2.py3-none-any.whl\n",
            "Requirement already satisfied: nltk>=3.2.1 in /usr/local/lib/python3.6/dist-packages (from newspaper3k) (3.2.5)\n",
            "Requirement already satisfied: Pillow>=3.3.0 in /usr/local/lib/python3.6/dist-packages (from newspaper3k) (7.0.0)\n",
            "Requirement already satisfied: requests>=2.10.0 in /usr/local/lib/python3.6/dist-packages (from newspaper3k) (2.23.0)\n",
            "Collecting tinysegmenter==0.3\n",
            "  Downloading https://files.pythonhosted.org/packages/17/82/86982e4b6d16e4febc79c2a1d68ee3b707e8a020c5d2bc4af8052d0f136a/tinysegmenter-0.3.tar.gz\n",
            "Collecting jieba3k>=0.35.1\n",
            "\u001b[?25l  Downloading https://files.pythonhosted.org/packages/a9/cb/2c8332bcdc14d33b0bedd18ae0a4981a069c3513e445120da3c3f23a8aaa/jieba3k-0.35.1.zip (7.4MB)\n",
            "\u001b[K     |████████████████████████████████| 7.4MB 23.5MB/s \n",
            "\u001b[?25hRequirement already satisfied: PyYAML>=3.11 in /usr/local/lib/python3.6/dist-packages (from newspaper3k) (3.13)\n",
            "Collecting tldextract>=2.0.1\n",
            "\u001b[?25l  Downloading https://files.pythonhosted.org/packages/7e/62/b6acd3129c5615b9860e670df07fd55b76175b63e6b7f68282c7cad38e9e/tldextract-3.1.0-py2.py3-none-any.whl (87kB)\n",
            "\u001b[K     |████████████████████████████████| 92kB 9.4MB/s \n",
            "\u001b[?25hCollecting feedparser>=5.2.1\n",
            "\u001b[?25l  Downloading https://files.pythonhosted.org/packages/1c/21/faf1bac028662cc8adb2b5ef7a6f3999a765baa2835331df365289b0ca56/feedparser-6.0.2-py3-none-any.whl (80kB)\n",
            "\u001b[K     |████████████████████████████████| 81kB 9.3MB/s \n",
            "\u001b[?25hRequirement already satisfied: beautifulsoup4>=4.4.1 in /usr/local/lib/python3.6/dist-packages (from newspaper3k) (4.6.3)\n",
            "Requirement already satisfied: six in /usr/local/lib/python3.6/dist-packages (from feedfinder2>=0.0.4->newspaper3k) (1.15.0)\n",
            "Requirement already satisfied: certifi>=2017.4.17 in /usr/local/lib/python3.6/dist-packages (from requests>=2.10.0->newspaper3k) (2020.12.5)\n",
            "Requirement already satisfied: idna<3,>=2.5 in /usr/local/lib/python3.6/dist-packages (from requests>=2.10.0->newspaper3k) (2.10)\n",
            "Requirement already satisfied: chardet<4,>=3.0.2 in /usr/local/lib/python3.6/dist-packages (from requests>=2.10.0->newspaper3k) (3.0.4)\n",
            "Requirement already satisfied: urllib3!=1.25.0,!=1.25.1,<1.26,>=1.21.1 in /usr/local/lib/python3.6/dist-packages (from requests>=2.10.0->newspaper3k) (1.24.3)\n",
            "Collecting requests-file>=1.4\n",
            "  Downloading https://files.pythonhosted.org/packages/77/86/cdb5e8eaed90796aa83a6d9f75cfbd37af553c47a291cd47bc410ef9bdb2/requests_file-1.5.1-py2.py3-none-any.whl\n",
            "Requirement already satisfied: filelock>=3.0.8 in /usr/local/lib/python3.6/dist-packages (from tldextract>=2.0.1->newspaper3k) (3.0.12)\n",
            "Collecting sgmllib3k\n",
            "  Downloading https://files.pythonhosted.org/packages/9e/bd/3704a8c3e0942d711c1299ebf7b9091930adae6675d7c8f476a7ce48653c/sgmllib3k-1.0.0.tar.gz\n",
            "Building wheels for collected packages: feedfinder2, tinysegmenter, jieba3k, sgmllib3k\n",
            "  Building wheel for feedfinder2 (setup.py) ... \u001b[?25l\u001b[?25hdone\n",
            "  Created wheel for feedfinder2: filename=feedfinder2-0.0.4-cp36-none-any.whl size=3356 sha256=bffd3a574bfa232cce068b891d3b48dd2805ef1e4bb6ea5a055be231d9322333\n",
            "  Stored in directory: /root/.cache/pip/wheels/de/03/ca/778e3a7a627e3d98836cc890e7cb40c7575424cfd3340f40ed\n",
            "  Building wheel for tinysegmenter (setup.py) ... \u001b[?25l\u001b[?25hdone\n",
            "  Created wheel for tinysegmenter: filename=tinysegmenter-0.3-cp36-none-any.whl size=13538 sha256=2b64f57c5cd6864e4ad86c98fef12e34df9cd4193a4930a0dc95d88f1dc73ad4\n",
            "  Stored in directory: /root/.cache/pip/wheels/81/2b/43/a02ede72324dd40cdd7ca53aad718c7710628e91b8b0dc0f02\n",
            "  Building wheel for jieba3k (setup.py) ... \u001b[?25l\u001b[?25hdone\n",
            "  Created wheel for jieba3k: filename=jieba3k-0.35.1-cp36-none-any.whl size=7398405 sha256=676f95fd36a769bcbd33ac264d2026e55065742f6ab97880432e94fbbf9cecac\n",
            "  Stored in directory: /root/.cache/pip/wheels/83/15/9c/a3f1f67e7f7181170ad37d32e503c35da20627c013f438ed34\n",
            "  Building wheel for sgmllib3k (setup.py) ... \u001b[?25l\u001b[?25hdone\n",
            "  Created wheel for sgmllib3k: filename=sgmllib3k-1.0.0-cp36-none-any.whl size=6067 sha256=768657cda59090afdf36ddf042950a6c2373d139a9e800f318f48fc40038f444\n",
            "  Stored in directory: /root/.cache/pip/wheels/f1/80/5a/444ba08a550cdd241bd9baf8bae44be750efe370adb944506a\n",
            "Successfully built feedfinder2 tinysegmenter jieba3k sgmllib3k\n",
            "Installing collected packages: feedfinder2, cssselect, tinysegmenter, jieba3k, requests-file, tldextract, sgmllib3k, feedparser, newspaper3k\n",
            "Successfully installed cssselect-1.1.0 feedfinder2-0.0.4 feedparser-6.0.2 jieba3k-0.35.1 newspaper3k-0.2.8 requests-file-1.5.1 sgmllib3k-1.0.0 tinysegmenter-0.3 tldextract-3.1.0\n"
          ],
          "name": "stdout"
        }
      ]
    },
    {
      "cell_type": "code",
      "metadata": {
        "id": "tEvNugphGzcN"
      },
      "source": [
        "from newspaper import Article\r\n",
        "import random\r\n",
        "import string\r\n",
        "import nltk\r\n",
        "from sklearn.feature_extraction.text import CountVectorizer\r\n",
        "from sklearn.metrics.pairwise import cosine_similarity\r\n",
        "import numpy as np\r\n",
        "import warnings\r\n",
        "warnings.filterwarnings('ignore')"
      ],
      "execution_count": 6,
      "outputs": []
    },
    {
      "cell_type": "code",
      "metadata": {
        "colab": {
          "base_uri": "https://localhost:8080/"
        },
        "id": "l0T2T1_SIJna",
        "outputId": "0a28dabc-de5b-408d-af9b-d422014fb3a1"
      },
      "source": [
        "nltk.download('punkt',quiet=True)"
      ],
      "execution_count": 7,
      "outputs": [
        {
          "output_type": "execute_result",
          "data": {
            "text/plain": [
              "True"
            ]
          },
          "metadata": {
            "tags": []
          },
          "execution_count": 7
        }
      ]
    },
    {
      "cell_type": "code",
      "metadata": {
        "id": "bj5yKHETIc9t"
      },
      "source": [
        "article=Article('https://rajpurkar.github.io/SQuAD-explorer/explore/v2.0/dev/Pharmacy.html')\r\n",
        "article.download()\r\n",
        "article.parse()\r\n",
        "article.nlp()\r\n",
        "corpus=article.text"
      ],
      "execution_count": 18,
      "outputs": []
    },
    {
      "cell_type": "code",
      "metadata": {
        "colab": {
          "base_uri": "https://localhost:8080/"
        },
        "id": "HcZUBIlZJEkv",
        "outputId": "3fb396eb-cde7-4293-bf84-4cb5077e95a5"
      },
      "source": [
        "print(corpus)"
      ],
      "execution_count": 19,
      "outputs": [
        {
          "output_type": "stream",
          "text": [
            "The advances made in the Middle East in botany and chemistry led medicine in medieval Islam substantially to develop pharmacology. Muhammad ibn Zakarīya Rāzi (Rhazes) (865–915), for instance, acted to promote the medical uses of chemical compounds. Abu al-Qasim al-Zahrawi (Abulcasis) (936–1013) pioneered the preparation of medicines by sublimation and distillation. His Liber servitoris is of particular interest, as it provides the reader with recipes and explains how to prepare the `simples’ from which were compounded the complex drugs then generally used. Sabur Ibn Sahl (d 869), was, however, the first physician to initiate pharmacopoedia, describing a large variety of drugs and remedies for ailments. Al-Biruni (973–1050) wrote one of the most valuable Islamic works on pharmacology, entitled Kitab al-Saydalah (The Book of Drugs), in which he detailed the properties of drugs and outlined the role of pharmacy and the functions and duties of the pharmacist. Avicenna, too, described no less than 700 preparations, their properties, modes of action, and their indications. He devoted in fact a whole volume to simple drugs in The Canon of Medicine. Of great impact were also the works by al-Maridini of Baghdad and Cairo, and Ibn al-Wafid (1008–1074), both of which were printed in Latin more than fifty times, appearing as De Medicinis universalibus et particularibus by 'Mesue' the younger, and the Medicamentis simplicibus by 'Abenguefit'. Peter of Abano (1250–1316) translated and added a supplement to the work of al-Maridini under the title De Veneris. Al-Muwaffaq’s contributions in the field are also pioneering. Living in the 10th century, he wrote The foundations of the true properties of Remedies, amongst others describing arsenious oxide, and being acquainted with silicic acid. He made clear distinction between sodium carbonate and potassium carbonate, and drew attention to the poisonous nature of copper compounds, especially copper vitriol, and also lead compounds. He also describes the distillation of sea-water for drinking.[verification needed]\n"
          ],
          "name": "stdout"
        }
      ]
    },
    {
      "cell_type": "code",
      "metadata": {
        "id": "Vk3UbkCUJJaw"
      },
      "source": [
        "text=corpus\r\n",
        "sentence_list=nltk.sent_tokenize(text)\r\n"
      ],
      "execution_count": 20,
      "outputs": []
    },
    {
      "cell_type": "code",
      "metadata": {
        "colab": {
          "base_uri": "https://localhost:8080/"
        },
        "id": "hgpYZPxmJoq2",
        "outputId": "341601e3-4e92-4e3a-cfc5-fb41ea286674"
      },
      "source": [
        "print(sentence_list)"
      ],
      "execution_count": 21,
      "outputs": [
        {
          "output_type": "stream",
          "text": [
            "['The advances made in the Middle East in botany and chemistry led medicine in medieval Islam substantially to develop pharmacology.', 'Muhammad ibn Zakarīya Rāzi (Rhazes) (865–915), for instance, acted to promote the medical uses of chemical compounds.', 'Abu al-Qasim al-Zahrawi (Abulcasis) (936–1013) pioneered the preparation of medicines by sublimation and distillation.', 'His Liber servitoris is of particular interest, as it provides the reader with recipes and explains how to prepare the `simples’ from which were compounded the complex drugs then generally used.', 'Sabur Ibn Sahl (d 869), was, however, the first physician to initiate pharmacopoedia, describing a large variety of drugs and remedies for ailments.', 'Al-Biruni (973–1050) wrote one of the most valuable Islamic works on pharmacology, entitled Kitab al-Saydalah (The Book of Drugs), in which he detailed the properties of drugs and outlined the role of pharmacy and the functions and duties of the pharmacist.', 'Avicenna, too, described no less than 700 preparations, their properties, modes of action, and their indications.', 'He devoted in fact a whole volume to simple drugs in The Canon of Medicine.', \"Of great impact were also the works by al-Maridini of Baghdad and Cairo, and Ibn al-Wafid (1008–1074), both of which were printed in Latin more than fifty times, appearing as De Medicinis universalibus et particularibus by 'Mesue' the younger, and the Medicamentis simplicibus by 'Abenguefit'.\", 'Peter of Abano (1250–1316) translated and added a supplement to the work of al-Maridini under the title De Veneris.', 'Al-Muwaffaq’s contributions in the field are also pioneering.', 'Living in the 10th century, he wrote The foundations of the true properties of Remedies, amongst others describing arsenious oxide, and being acquainted with silicic acid.', 'He made clear distinction between sodium carbonate and potassium carbonate, and drew attention to the poisonous nature of copper compounds, especially copper vitriol, and also lead compounds.', 'He also describes the distillation of sea-water for drinking.', '[verification needed]']\n"
          ],
          "name": "stdout"
        }
      ]
    },
    {
      "cell_type": "code",
      "metadata": {
        "id": "rokviR-EJrfM"
      },
      "source": [
        "def greeting_response(text):\r\n",
        "  text=text.lower()\r\n",
        "  bot_greetings=['Hi, Whats your name?','Hey, Whats your name?','Hello, Whats your name?']\r\n",
        "  user_greetings=['hi','hey','hello']\r\n",
        "  for word in text.split():\r\n",
        "    if word in user_greetings:\r\n",
        "      return random.choice(bot_greetings)\r\n",
        "  \r\n",
        "  bot_greetings=['Hello! Nice to meet you.']\r\n",
        "  user_greetings=['shresth','nikhar','manav','aarush','rohin']\r\n",
        "  for word in text.split():\r\n",
        "    if word in user_greetings:\r\n",
        "      return random.choice(bot_greetings)\r\n",
        "  \r\n",
        "  bot_greetings=['Are you feeling any symptoms or problems!']\r\n",
        "  user_greetings=['unwell','sad','not','feeling']\r\n",
        "  for word in text.split():\r\n",
        "    if word in user_greetings:\r\n",
        "      return random.choice(bot_greetings)\r\n",
        "\r\n",
        "  bot_greetings=['It may be flu.','It may be cold.']\r\n",
        "  user_greetings=['pain','headache','fever']\r\n",
        "  for word in text.split():\r\n",
        "    if word in user_greetings:\r\n",
        "      return random.choice(bot_greetings)\r\n",
        "  \r\n",
        "  bot_greetings=['Take a paracetamol and have some rest.']\r\n",
        "  user_greetings=['recommend','suggest','advice']\r\n",
        "  for word in text.split():\r\n",
        "    if word in user_greetings:\r\n",
        "      return random.choice(bot_greetings)\r\n",
        "  \r\n",
        "  bot_greetings=['It may lead to vomit or indigestion. Nothing severe!']\r\n",
        "  user_greetings=['side effects','side','adverse']\r\n",
        "  for word in text.split():\r\n",
        "    if word in user_greetings:\r\n",
        "      return random.choice(bot_greetings)\r\n",
        "  \r\n",
        "  bot_greetings=['May be due to viral or bacterial infection.']\r\n",
        "  user_greetings=['cause','reason','chances']\r\n",
        "  for word in text.split():\r\n",
        "    if word in user_greetings:\r\n",
        "      return random.choice(bot_greetings)\r\n"
      ],
      "execution_count": 36,
      "outputs": []
    },
    {
      "cell_type": "code",
      "metadata": {
        "id": "06XnyHnjL6lC"
      },
      "source": [
        "def index_sort(list_var):\r\n",
        "  length=len(list_var)\r\n",
        "  list_index=list(range(0, length))\r\n",
        "\r\n",
        "  x=list_var\r\n",
        "  for i in range(length):\r\n",
        "    for j in range(length):\r\n",
        "      if x[list_index[i]]> x[list_index[j]]:\r\n",
        "        temp=list_index[i]\r\n",
        "        list_index[i]=list_index[j]\r\n",
        "        list_index[j]=temp\r\n",
        "  return list_index"
      ],
      "execution_count": 37,
      "outputs": []
    },
    {
      "cell_type": "code",
      "metadata": {
        "id": "ZfRNEyemLBOb"
      },
      "source": [
        "def bot_response(user_input):\r\n",
        "  user_input =user_input.lower()\r\n",
        "  sentence_list.append(user_input)\r\n",
        "  bot_response= ''\r\n",
        "  cm=CountVectorizer().fit_transform(sentence_list)\r\n",
        "  similarity_scores=cosine_similarity(cm[-1], cm)\r\n",
        "  similarity_scores_list =similarity_scores.flatten()\r\n",
        "  index= index_sort(similarity_scores_list)\r\n",
        "  index=index[1:]\r\n",
        "  response_flag=0\r\n",
        "\r\n",
        "  j=0\r\n",
        "  for i in range(len(index)):\r\n",
        "    if similarity_scores_list[index[i]]>0.0:\r\n",
        "      bot_response=bot_response+' '+sentence_list[index[i]]\r\n",
        "      response_flag=1\r\n",
        "      j=j+1\r\n",
        "    if j>2:\r\n",
        "      break\r\n",
        "  if response_flag==0:\r\n",
        "      bot_response=bot_response+' '+\"I apologize I don't know.\"\r\n",
        "  \r\n",
        "  sentence_list.remove(user_input)\r\n",
        "\r\n",
        "  return bot_response"
      ],
      "execution_count": 38,
      "outputs": []
    },
    {
      "cell_type": "code",
      "metadata": {
        "colab": {
          "base_uri": "https://localhost:8080/"
        },
        "id": "xrGWMDGHzSRX",
        "outputId": "da1cdc2d-1fd0-4bca-da05-695f1a4859ff"
      },
      "source": [
        "print('Health_Bot: I will ans your health related queries')\r\n",
        "\r\n",
        "exit_list=['ok','bye','thanks']\r\n",
        "\r\n",
        "while(True):\r\n",
        "  print('Me: ') \r\n",
        "  user_input=input()\r\n",
        "  if user_input.lower() in exit_list:\r\n",
        "    print('Health_Bot: Bye, chat with you later!')\r\n",
        "    break;\r\n",
        "  else:\r\n",
        "    if greeting_response(user_input)!=None:\r\n",
        "      print(\"Health_Bot: \"+greeting_response(user_input))\r\n",
        "    else:\r\n",
        "      print('Health_Bot: '+bot_response(user_input))\r\n"
      ],
      "execution_count": 39,
      "outputs": [
        {
          "output_type": "stream",
          "text": [
            "Health_Bot: I will ans your health related queries\n",
            "Me: \n",
            "hey\n",
            "Health_Bot: Hey, Whats your name?\n",
            "Me: \n",
            "my name is shresth\n",
            "Health_Bot: Hello! Nice to meet you.\n",
            "Me: \n",
            "am not feeling well today\n",
            "Health_Bot: Are you feeling any symptoms or problems!\n",
            "Me: \n",
            "yes fever\n",
            "Health_Bot: It may be flu.\n",
            "Me: \n",
            "suggest me any medicine\n",
            "Health_Bot: Take a paracetamol and have some rest.\n",
            "Me: \n",
            "Is it having any side effects?\n",
            "Health_Bot: It may lead to vomit or indigestion. Nothing severe!\n",
            "Me: \n",
            "ok, what may be the causes of this\n",
            "Health_Bot:  Al-Biruni (973–1050) wrote one of the most valuable Islamic works on pharmacology, entitled Kitab al-Saydalah (The Book of Drugs), in which he detailed the properties of drugs and outlined the role of pharmacy and the functions and duties of the pharmacist. Living in the 10th century, he wrote The foundations of the true properties of Remedies, amongst others describing arsenious oxide, and being acquainted with silicic acid. Peter of Abano (1250–1316) translated and added a supplement to the work of al-Maridini under the title De Veneris.\n",
            "Me: \n",
            "any reason for that\n",
            "Health_Bot: May be due to viral or bacterial infection.\n",
            "Me: \n",
            "ok thanks\n",
            "Health_Bot:  I apologize I don't know.\n",
            "Me: \n",
            "cancer is the very\n",
            "Health_Bot:  His Liber servitoris is of particular interest, as it provides the reader with recipes and explains how to prepare the `simples’ from which were compounded the complex drugs then generally used. Al-Biruni (973–1050) wrote one of the most valuable Islamic works on pharmacology, entitled Kitab al-Saydalah (The Book of Drugs), in which he detailed the properties of drugs and outlined the role of pharmacy and the functions and duties of the pharmacist. Living in the 10th century, he wrote The foundations of the true properties of Remedies, amongst others describing arsenious oxide, and being acquainted with silicic acid.\n",
            "Me: \n",
            "hjvjdbsjj\n",
            "Health_Bot:  I apologize I don't know.\n",
            "Me: \n",
            "ok\n",
            "Health_Bot: Bye, chat with you later!\n"
          ],
          "name": "stdout"
        }
      ]
    },
    {
      "cell_type": "code",
      "metadata": {
        "id": "hIKgbe7P2U-H"
      },
      "source": [
        ""
      ],
      "execution_count": 35,
      "outputs": []
    }
  ]
}